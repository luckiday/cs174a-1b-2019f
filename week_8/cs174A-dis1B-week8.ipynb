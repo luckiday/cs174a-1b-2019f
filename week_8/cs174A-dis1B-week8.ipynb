{
 "cells": [
  {
   "cell_type": "markdown",
   "metadata": {
    "slideshow": {
     "slide_type": "slide"
    }
   },
   "source": [
    "# CS-174A Discussion 1B, Week 8\n",
    "\n",
    "@ Yunqi Guo\n",
    "\n",
    "@ DODD 161 / Friday / 12:00pm-1:50pm\n",
    "\n",
    "@ https://github.com/luckiday/cs174a-1b-2019f   (Short link: https://bit.ly/32Zt3sg)"
   ]
  },
  {
   "cell_type": "markdown",
   "metadata": {
    "slideshow": {
     "slide_type": "slide"
    }
   },
   "source": [
    "# Outline\n",
    "\n",
    "- Announcements\n",
    "- Tiny graphics examples\n",
    "- Making Shapes\n",
    "- Motion\n",
    "- Collision Detection\n",
    "- Partical Shaders\n",
    "- Scene timing"
   ]
  },
  {
   "cell_type": "markdown",
   "metadata": {
    "slideshow": {
     "slide_type": "slide"
    }
   },
   "source": [
    "# Announcements\n",
    "\n",
    "- Continue working on project\n",
    "- Assignment 4 due Sunday\n",
    "- Project is due Sunday 12/1 at midnight\n",
    "- Grades should be uploaded, check CCLE/ MyUCLA. "
   ]
  },
  {
   "cell_type": "markdown",
   "metadata": {
    "slideshow": {
     "slide_type": "subslide"
    }
   },
   "source": [
    "# Exact Project Deadline and Rules\n",
    "\n",
    "- Presentations are <u>Tuesday 12/3 and Thursday 12/5</u>\n",
    "\n",
    "  - Presentation order is random\n",
    "\n",
    "- The project code itself is due on GitHub Sunday on <u>12/01 at midnight</u>\n",
    "  - No more pushes are allowed after midnight without asking permission first (such as for last minute fixes or unplanned issues).\n",
    "\n",
    "  - That way there's a safe time buffer before presentation time.\n",
    "\n",
    "  - Frees you to focus on presentation rehearsal for the final day beforehand.\n",
    "\n",
    "  - You can edit code for demo but it won’t be graded if edited after 12/1\n",
    "\n",
    "  - Demos will be done using YOUR laptop/machine we will only provide the HDMI cable. If you need a different cable please check the room beforehand\n",
    "\n",
    "  - Make sure your demo works beforehand, you are responsible for it. Rehearse with team mates."
   ]
  },
  {
   "cell_type": "markdown",
   "metadata": {
    "slideshow": {
     "slide_type": "subslide"
    }
   },
   "source": [
    "# Project Rules Continued\n",
    "\n",
    "- Don’t use Three.js\n",
    "- Don’t use any external application for generating matrix transformations\\\n",
    "  You may use external applications for generating 3D object files\n",
    "- Cite code you used (stackoverflow etc)\n",
    "- Make sure you have a github repo under the assignment link https://classroom.github.com/g/y_Hxt2qr\n",
    "- (If your assignment isn’t on this github link you won’t get any credit)\n",
    "  and have added your team members\n",
    "- Push your project proposal to your github\n",
    "  - This must include each team members Name, UID, email, github handle. \n",
    "  - If someone isn’t added, and their name isn’t in the proposal they won’t get credit"
   ]
  },
  {
   "cell_type": "markdown",
   "metadata": {
    "slideshow": {
     "slide_type": "slide"
    }
   },
   "source": [
    "# Tiny-graphics Examples\n",
    "\n",
    "- Lots of free code here: https://github.com/encyclopedia-of-code/tiny-graphics-js \\\n",
    "  (This is on piazza)\n",
    "- Check general resources on piazza page for more info\n",
    "- Demos include:\n",
    "  - Inertia\n",
    "  - Collision\n",
    "  - Lighting\n",
    "  - Surfaces\n",
    "  - Text"
   ]
  },
  {
   "cell_type": "markdown",
   "metadata": {
    "slideshow": {
     "slide_type": "subslide"
    }
   },
   "source": [
    "# Making Shapes\n",
    "\n",
    "- ``Grid_Patch``\n",
    "- ``Surface_Of_Revolution``\n",
    "- ``copy_onto_graphics_card()`` method\n",
    "- See demo *Surface_Of_Revolution*"
   ]
  },
  {
   "cell_type": "markdown",
   "metadata": {
    "slideshow": {
     "slide_type": "slide"
    }
   },
   "source": [
    "# Motion\n",
    "\n",
    "For each moving object, we need to store:\n",
    "- Model Matrix\n",
    "- Give the model transform matrix a \"velocity\" and track it over time\n",
    "  - Need to split it up into angular and linear components so you can scale angular speed\n",
    "- Inertia Demo`"
   ]
  },
  {
   "cell_type": "markdown",
   "metadata": {
    "slideshow": {
     "slide_type": "slide"
    }
   },
   "source": [
    "# Collision Detection\n",
    "\n",
    "- Testing for intersections to detect when your shapes are touching one another\n",
    "- Collision Demo"
   ]
  },
  {
   "cell_type": "markdown",
   "metadata": {
    "slideshow": {
     "slide_type": "slide"
    }
   },
   "source": [
    "# Particle Shaders\n",
    "\n",
    "- https://www.youtube.com/watch?v=tfghiimtgyY&list=PLAwxTw4SYaPlaHwnoGxJE7NFhEWRCIyet&index=391\n",
    "\n",
    "- https://www.youtube.com/watch?v=jsPfaQ7aMqk&list=PLAwxTw4SYaPlaHwnoGxJE7NFhEWRCIyet&index=499\n",
    "\n",
    "- https://www.shadertoy.com/"
   ]
  },
  {
   "cell_type": "markdown",
   "metadata": {
    "slideshow": {
     "slide_type": "slide"
    }
   },
   "source": [
    "# Scene Timing Ideas\n",
    "\n",
    "Advice on organizing time during scenes that have several distinct events happen sequentially"
   ]
  },
  {
   "cell_type": "markdown",
   "metadata": {
    "slideshow": {
     "slide_type": "subslide"
    }
   },
   "source": [
    "## Freeze your scene\n",
    "\n",
    "- You can set ``program_state.animate = 0`` anytime.  This freezes animation_time.\n",
    "- You can do this inside your code at a certain time, as a debugging / diagnosis trick.\n",
    "- If you’re paused in the debugger inside your scene, you can just enter that line into the console to freeze your Scene.\n",
    "- Easiest option:  You could make a button in your Scene that does it."
   ]
  },
  {
   "cell_type": "markdown",
   "metadata": {
    "slideshow": {
     "slide_type": "subslide"
    }
   },
   "source": [
    "## Scene timing ideas\n",
    "\n",
    "- Use ``if`` statements for switching scenes\n",
    "- Keep multiple copies of the ``animation_time`` variable with different offsets subtracted from it. \n",
    "- Name the copies like \"*time since (scene #17) started*\"\n",
    "  - If it’s *negative*, the scene shouldn’t start yet, so skip those lines for this frame.\n",
    "  - If it's *positive*, you know to proceed with the lines of code that animate that scene\n",
    "  - If it’s *too positive*, it’s past the scene’s end time, so manually overwrite it to some negative number, making the scene go away again.  "
   ]
  },
  {
   "cell_type": "markdown",
   "metadata": {
    "slideshow": {
     "slide_type": "subslide"
    }
   },
   "source": [
    "## Example\n",
    "\n",
    "```js\n",
    "// Start the scene 5 seconds in.\n",
    "// This scene will last 7 seconds...\n",
    "// ...after which, it will go away again.\n",
    "let time_sinceFallingSceneStart = graphics_state.animation_time - 5000;\t \n",
    "if (time_sinceFallingSceneStart > 7000)         \n",
    "    time_sinceFallingSceneStart = -1;\t\n",
    "    \n",
    "if( time_sinceFallingSceneStart > 0 )\t\n",
    "... // Go on with displaying the falling scene\n",
    "```"
   ]
  },
  {
   "cell_type": "markdown",
   "metadata": {
    "slideshow": {
     "slide_type": "subslide"
    }
   },
   "source": [
    "## Scene timing ideas\n",
    "\n",
    "If your program is interactive:\n",
    "\n",
    "- May want less of a time-dependent scene system -- and more of a **finite state machine (FSM)** \n",
    "- Conditionals in your display() function would consult the **state** before proceeding with any drawing code sections.\n",
    "- Certain key inputs will change your state variable to a different enum value, causing those if's to act differently.  \n",
    "  - Multiple offset copies of your time variable will again be needed to track how long each animation has been going on for, so you can change state once it's done.\n",
    "\n",
    "\n"
   ]
  }
 ],
 "metadata": {
  "celltoolbar": "Slideshow",
  "kernelspec": {
   "display_name": "Python 3",
   "language": "python",
   "name": "python3"
  },
  "language_info": {
   "codemirror_mode": {
    "name": "ipython",
    "version": 3
   },
   "file_extension": ".py",
   "mimetype": "text/x-python",
   "name": "python",
   "nbconvert_exporter": "python",
   "pygments_lexer": "ipython3",
   "version": "3.7.4"
  }
 },
 "nbformat": 4,
 "nbformat_minor": 2
}
