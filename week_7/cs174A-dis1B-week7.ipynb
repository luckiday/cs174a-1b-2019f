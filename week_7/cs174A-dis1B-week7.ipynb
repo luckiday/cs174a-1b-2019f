{
 "cells": [
  {
   "cell_type": "markdown",
   "metadata": {
    "slideshow": {
     "slide_type": "slide"
    }
   },
   "source": [
    "# CS-174A Discussion 1B, Week 7\n",
    "\n",
    "@ Yunqi Guo\n",
    "\n",
    "@ DODD 161 / Friday / 12:00pm-1:50pm\n",
    "\n",
    "@ https://github.com/luckiday/cs174a-1b-2019f   (Short link: https://bit.ly/32Zt3sg)"
   ]
  },
  {
   "cell_type": "markdown",
   "metadata": {
    "slideshow": {
     "slide_type": "slide"
    }
   },
   "source": [
    "# Outline\n",
    "\n",
    "- Midterm Solutions\n",
    "- Assignment 4\n",
    "- Collision Detection"
   ]
  },
  {
   "cell_type": "markdown",
   "metadata": {
    "slideshow": {
     "slide_type": "slide"
    }
   },
   "source": [
    "# Collision Detection\n",
    "\n",
    "- Object Representation\n",
    "  - We perform collision detection by computing whether one primitive intersects another.\n",
    "  - We could do this by comparing all triangles in a scene with each other.\n",
    "    - This would be slow and produce a lot of useless results.\n",
    "  - Stick to objects in scene we care about.\n",
    "    - Still checking objects not colliding with anything.\n",
    "    - Say we have ten objects that potentially hit each other made up of 100 triangles each\n",
    "    - Several tens of thousands of comparisons required!\n",
    "  - Need to be smarter about this..."
   ]
  },
  {
   "cell_type": "markdown",
   "metadata": {
    "slideshow": {
     "slide_type": "subslide"
    }
   },
   "source": [
    "# Collision Detection\n",
    "\n",
    "- Object Representation\n",
    "  - Has to be a better way\n",
    "  - There is, it is called a bounding volume.\n",
    "    - A sphere is the simplest.\n",
    "  - Not an exact representation, but...\n",
    "  - Now we only need around 50 comparisons!\n",
    "  - If two spheres intersect a more thorough check can then be performed.\n",
    "  - We spend time only when we need to\n",
    "  - Or, test itself can be sufficient if objects are far enough away and close inspection is not necessary."
   ]
  },
  {
   "cell_type": "markdown",
   "metadata": {
    "slideshow": {
     "slide_type": "subslide"
    }
   },
   "source": [
    "## Object Representations\n",
    "\n",
    "- Sphere\n",
    "- Rectangle\n",
    "- Axis-aligned bounding box (AABB)"
   ]
  },
  {
   "cell_type": "markdown",
   "metadata": {
    "slideshow": {
     "slide_type": "subslide"
    }
   },
   "source": [
    "### Bounding Sphere\n",
    "- Simple intersection test...\n",
    "\n",
    "```c\n",
    "struct Sphere {\n",
    "    Point c;\n",
    "    float r; \n",
    "};\n",
    "\n",
    "int testSphere( Sphere a, Sphere b )\n",
    "{\n",
    "    // Calculate squared distance between centers\n",
    "    Vector d = a.c – b.c;\n",
    "    float dist2 = Dot( d, d );\n",
    "    // Spheres intersect if squared distance is less than // squared sum of radii\n",
    "    float radiusSum = a.r + b.r;\n",
    "    return dist2 <= radiusSum * radiusSum; \n",
    "}\n",
    "```"
   ]
  },
  {
   "cell_type": "markdown",
   "metadata": {
    "slideshow": {
     "slide_type": "subslide"
    }
   },
   "source": [
    "### Axis Aligned Bounding Box\n",
    "- Example, intersection of two AABB\n",
    "\n",
    "```c\n",
    "struct AABB {\n",
    "    Point min;\n",
    "    Point max;\n",
    "};\n",
    "\n",
    "int testAABB( AABB a, AABB b )\n",
    "{\n",
    "    // Exit if separated along an axis\n",
    "    if ( a.max[0] < b.min[0] || a.min[0] > b.max[0] ) return 0; \n",
    "    if ( a.max[1] < b.min[1] || a.min[1] > b.max[1] ) return 0; \n",
    "    if ( a.max[2] < b.min[2] || a.min[2] > b.max[2] ) return 0; \n",
    "    // Overlapping on all axes means there is an intersection \n",
    "    return 1;\n",
    "}\n",
    "```"
   ]
  },
  {
   "cell_type": "markdown",
   "metadata": {
    "slideshow": {
     "slide_type": "subslide"
    }
   },
   "source": [
    "# Algorithms for Efficient Collision Detection\n",
    "\n",
    "https://wikivisually.com/wiki/Bounding_sphere#Ritter's_bounding_sphere\n",
    "\n",
    "- Ritter's bounding sphere\n",
    "- Linear programming\n",
    "- Core-set based approximation\n",
    "- Fischer's exact solver\n",
    "- Extremal points optimal sphere\n"
   ]
  }
 ],
 "metadata": {
  "celltoolbar": "Slideshow",
  "kernelspec": {
   "display_name": "Python 3",
   "language": "python",
   "name": "python3"
  },
  "language_info": {
   "codemirror_mode": {
    "name": "ipython",
    "version": 3
   },
   "file_extension": ".py",
   "mimetype": "text/x-python",
   "name": "python",
   "nbconvert_exporter": "python",
   "pygments_lexer": "ipython3",
   "version": "3.7.4"
  }
 },
 "nbformat": 4,
 "nbformat_minor": 2
}
